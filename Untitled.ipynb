{
 "cells": [
  {
   "cell_type": "code",
   "execution_count": 14,
   "id": "80034990",
   "metadata": {},
   "outputs": [],
   "source": [
    "import prepare_data as data\n",
    "import tensorflow as tf\n",
    "import PIL\n",
    "from operator import concat\n",
    "import matplotlib.pyplot as plt\n",
    "from tensorflow.keras.preprocessing import image_dataset_from_directory, image\n",
    "from tensorflow.keras.applications import resnet50\n",
    "import numpy as np"
   ]
  },
  {
   "cell_type": "code",
   "execution_count": 21,
   "id": "66040c0b",
   "metadata": {},
   "outputs": [
    {
     "name": "stdout",
     "output_type": "stream",
     "text": [
      "<class 'PIL.JpegImagePlugin.JpegImageFile'>\n",
      "<class 'numpy.ndarray'>\n"
     ]
    }
   ],
   "source": [
    "img_path = \"50States2K_test\\\\test_data\\\\Alabama\\\\2007__5oyTyWSrqEsQR3V330oUg_0.jpg\"\n",
    "img_path_list = \"50States2K_test\\\\test_data\\\\*\\\\*_0.jpg\"\n",
    "\n",
    "imagenes = image.load_img(img_path,target_size=(256,256))\n",
    "print(type(imagenes))\n",
    "# Convertir la imagen a algo legible por numpy\n",
    "imagenes = image.img_to_array(imagenes)\n",
    "print(type(imagenes))\n",
    "x = np.expand_dims(imagenes, axis=0)\n"
   ]
  },
  {
   "cell_type": "code",
   "execution_count": 23,
   "id": "6111104f",
   "metadata": {},
   "outputs": [
    {
     "name": "stdout",
     "output_type": "stream",
     "text": [
      "<class 'numpy.ndarray'>\n",
      "1\n"
     ]
    }
   ],
   "source": [
    "# normalize the image\n",
    "x = resnet50.preprocess_input(x)\n",
    "print(type(x))\n",
    "print(len(x))"
   ]
  },
  {
   "cell_type": "code",
   "execution_count": null,
   "id": "88e8e7e6",
   "metadata": {},
   "outputs": [],
   "source": []
  }
 ],
 "metadata": {
  "kernelspec": {
   "display_name": "Python 3",
   "language": "python",
   "name": "python3"
  },
  "language_info": {
   "codemirror_mode": {
    "name": "ipython",
    "version": 3
   },
   "file_extension": ".py",
   "mimetype": "text/x-python",
   "name": "python",
   "nbconvert_exporter": "python",
   "pygments_lexer": "ipython3",
   "version": "3.6.0"
  }
 },
 "nbformat": 4,
 "nbformat_minor": 5
}
