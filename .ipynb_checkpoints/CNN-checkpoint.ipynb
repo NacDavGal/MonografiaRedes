{
 "cells": [
  {
   "cell_type": "code",
   "execution_count": null,
   "id": "20eebba5",
   "metadata": {},
   "outputs": [],
   "source": [
    "from operator import concat\n",
    "import tensorflow as tf\n",
    "\n",
    "from tensorflow.keras.layers import Input, Conv2D, ReLU, BatchNormalization,\\\n",
    "                                    Add, MaxPooling2D, Flatten, Dense\n",
    "from tensorflow.keras.models import Model\n"
   ]
  },
  {
   "cell_type": "code",
   "execution_count": null,
   "id": "e60c6221",
   "metadata": {},
   "outputs": [],
   "source": [
    "def residual_block(x: tf.Tensor, downsample: bool, filters: int, kernel_size: int = 3) -> tf.Tensor:\n",
    "    #Se pasa el tensor de entrada x por dos capas de convolucion y se guarda en y\n",
    "    y = Conv2D(kernel_size=kernel_size,\n",
    "               strides= (1 if not downsample else 2),\n",
    "               filters=filters,\n",
    "               padding=\"same\")(x)\n",
    "    y = relu_bn(y)\n",
    "    y = Conv2D(kernel_size=kernel_size,\n",
    "               strides=1,\n",
    "               filters=filters,\n",
    "               padding=\"same\")(y)\n",
    "    # Si es necesario downsamplear se pasa a x por una capa de convolucion con padding = same\n",
    "    if downsample:\n",
    "        x = Conv2D(kernel_size=1,\n",
    "                   strides=2,\n",
    "                   filters=filters,\n",
    "                   padding=\"same\")(x)\n",
    "    #Se suman ambas y se hace relu + bn\n",
    "    out = Add()([x, y])\n",
    "    out = relu_bn(out)\n",
    "    return out"
   ]
  },
  {
   "cell_type": "code",
   "execution_count": null,
   "id": "afec42fd",
   "metadata": {},
   "outputs": [],
   "source": [
    "def relu_bn(inputs : tf.Tensor) -> tf.Tensor:\n",
    "    relu = ReLU()(inputs)\n",
    "    bn = BatchNormalization()(relu)\n",
    "    return bn"
   ]
  }
 ],
 "metadata": {
  "kernelspec": {
   "display_name": "Python 3",
   "language": "python",
   "name": "python3"
  },
  "language_info": {
   "name": ""
  }
 },
 "nbformat": 4,
 "nbformat_minor": 5
}
