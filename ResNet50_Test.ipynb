{
 "cells": [
  {
   "cell_type": "code",
   "execution_count": 12,
   "id": "49d2552d",
   "metadata": {},
   "outputs": [
    {
     "name": "stdout",
     "output_type": "stream",
     "text": [
      "El archivo es : ('50States2k_test\\\\test_data\\\\Nebraska\\\\2009_T_IesyHxP5slPqabt_ZNqA_0.jpg', '50States2k_test\\\\test_data\\\\Nebraska\\\\2009_T_IesyHxP5slPqabt_ZNqA_90.jpg', '50States2k_test\\\\test_data\\\\Nebraska\\\\2009_T_IesyHxP5slPqabt_ZNqA_180.jpg', '50States2k_test\\\\test_data\\\\Nebraska\\\\2009_T_IesyHxP5slPqabt_ZNqA_270.jpg') \n",
      "Y está en Nebraska\n"
     ]
    }
   ],
   "source": [
    "from operator import concat\n",
    "import tensorflow as tf\n",
    "from tensorflow.keras.layers import Input, Conv2D, ReLU, BatchNormalization,\\\n",
    "                                    Add, MaxPooling2D, Flatten, Dense\n",
    "from tensorflow.keras.models import Model\n",
    "import prueba as pd\n",
    "\n",
    "\n",
    "\n",
    "# from tensorflow.keras import ResNet50"
   ]
  },
  {
   "cell_type": "markdown",
   "id": "fea99bd3",
   "metadata": {},
   "source": [
    "Preparo los datos para usarlos como input."
   ]
  },
  {
   "cell_type": "code",
   "execution_count": 13,
   "id": "2571ecdd",
   "metadata": {},
   "outputs": [],
   "source": [
    "files, labels, all_labels = pd.read_grouped_filenames_and_labels(\"50States2k_test\\\\test_data\")"
   ]
  },
  {
   "cell_type": "code",
   "execution_count": 21,
   "id": "1e1cf637",
   "metadata": {},
   "outputs": [
    {
     "name": "stdout",
     "output_type": "stream",
     "text": [
      "El archivo norte es : 50States2k_test\\test_data\\Nebraska\\2009_T_IesyHxP5slPqabt_ZNqA_0.jpg \n",
      "Y está en Nebraska\n"
     ]
    }
   ],
   "source": [
    "n = 13299\n",
    "print(f\"El archivo norte es : {files[n][0]} \")\n",
    "print(f\"Y está en {all_labels[labels[n]]}\")"
   ]
  },
  {
   "cell_type": "markdown",
   "id": "4cc19ba5",
   "metadata": {},
   "source": [
    "Debería definir la misma sub-red para cada una de las direcciones.\n",
    "Dejo top_layer=False para poder hacer la concatenación antes de la clasificación."
   ]
  },
  {
   "cell_type": "code",
   "execution_count": 9,
   "id": "324cb9b4",
   "metadata": {},
   "outputs": [],
   "source": [
    "SubRed_Norte = tf.keras.applications.ResNet50(\n",
    "    include_top=False,\n",
    "    weights=\"imagenet\",\n",
    "    input_tensor=None,\n",
    "    input_shape=(256,256,3),\n",
    "    pooling=max,\n",
    ")"
   ]
  },
  {
   "cell_type": "code",
   "execution_count": null,
   "id": "3d67bb46",
   "metadata": {},
   "outputs": [],
   "source": []
  }
 ],
 "metadata": {
  "kernelspec": {
   "display_name": "Python 3",
   "language": "python",
   "name": "python3"
  },
  "language_info": {
   "codemirror_mode": {
    "name": "ipython",
    "version": 3
   },
   "file_extension": ".py",
   "mimetype": "text/x-python",
   "name": "python",
   "nbconvert_exporter": "python",
   "pygments_lexer": "ipython3",
   "version": "3.6.0"
  }
 },
 "nbformat": 4,
 "nbformat_minor": 5
}
